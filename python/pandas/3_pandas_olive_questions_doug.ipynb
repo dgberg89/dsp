{
 "cells": [
  {
   "cell_type": "code",
   "execution_count": null,
   "metadata": {
    "collapsed": true
   },
   "outputs": [],
   "source": [
    "# Answers submitted by:  Doug Goldberg  \n",
    "#### Date:  03/30/2017 \n",
    "---"
   ]
  },
  {
   "cell_type": "markdown",
   "metadata": {},
   "source": [
    "# Python Part 3:  Pandas Exercises\n",
    "---"
   ]
  },
  {
   "cell_type": "markdown",
   "metadata": {},
   "source": [
    "## Q1:  Read in the libraries you need"
   ]
  },
  {
   "cell_type": "code",
   "execution_count": 6,
   "metadata": {
    "collapsed": true
   },
   "outputs": [],
   "source": [
    "# Python 2 & 3 Compatibility\n",
    "from __future__ import print_function, division"
   ]
  },
  {
   "cell_type": "code",
   "execution_count": 7,
   "metadata": {
    "collapsed": true
   },
   "outputs": [],
   "source": [
    "# imports a library 'pandas', names it as 'pd'\n",
    "import pandas as pd\n",
    "import numpy as np\n",
    "import matplotlib.pyplot as plt\n",
    "\n",
    "from IPython.display import Image\n",
    "\n",
    "# enables inline plots, without it plots don't show up in the notebook\n",
    "%matplotlib inline"
   ]
  },
  {
   "cell_type": "markdown",
   "metadata": {},
   "source": [
    "## Q2:  Set options in pandas so it displays `max_rows` to 10"
   ]
  },
  {
   "cell_type": "code",
   "execution_count": 8,
   "metadata": {
    "collapsed": false
   },
   "outputs": [],
   "source": [
    "# set various options in pandas\n",
    "pd.set_option('display.max_columns', None)\n",
    "pd.set_option('display.max_rows', 10)\n",
    "pd.set_option('display.precision', 3)"
   ]
  },
  {
   "cell_type": "markdown",
   "metadata": {},
   "source": [
    "## Q3:  What versions of `Python` and `pandas` are you running?  \n",
    "\n"
   ]
  },
  {
   "cell_type": "code",
   "execution_count": 9,
   "metadata": {
    "collapsed": false
   },
   "outputs": [
    {
     "name": "stdout",
     "output_type": "stream",
     "text": [
      "Pandas version: 0.19.2\n",
      "Numpy version: 1.11.3\n"
     ]
    }
   ],
   "source": [
    "print(\"Pandas version:\",pd.__version__)\n",
    "print(\"Numpy version:\",np.__version__)"
   ]
  },
  {
   "cell_type": "code",
   "execution_count": 10,
   "metadata": {
    "collapsed": false
   },
   "outputs": [
    {
     "name": "stdout",
     "output_type": "stream",
     "text": [
      "Python Version: 3.6.0 |Anaconda 4.3.1 (x86_64)| (default, Dec 23 2016, 13:19:00) \n",
      "[GCC 4.2.1 Compatible Apple LLVM 6.0 (clang-600.0.57)]\n"
     ]
    }
   ],
   "source": [
    "# confirming which version of Python I am using\n",
    "import sys\n",
    "print(\"Python Version:\", sys.version)"
   ]
  },
  {
   "cell_type": "markdown",
   "metadata": {},
   "source": [
    "## Q4:  Read in the \"olive\" dataset that is available in this folder\n",
    "Description:  572 olive oil samples from 3 different regions (and 9 sub-regions) of Italy; for each sample the normalized concentrations of 8 fatty acids are given.  \n",
    "Source:  http://www2.chemie.uni-erlangen.de/publications/ANN-book/datasets/oliveoil/\n",
    "\n",
    "There are 3 regions: \n",
    "* South\n",
    "* North\n",
    "* Sardinia\n",
    "\n",
    "There are 9 sub-regions (areas): \n",
    "* North Apulia\n",
    "* South Apulia\n",
    "* Calabria\n",
    "* Sicily\n",
    "* Inland\n",
    "* Coastal Sardinia\n",
    "* Umbria\n",
    "* East\n",
    "* West Liguria\n",
    "\n",
    "Supplemental report:  http://www.public.iastate.edu/~dicook/stat503/05/cs-olive.pdf"
   ]
  },
  {
   "cell_type": "code",
   "execution_count": 11,
   "metadata": {
    "collapsed": false
   },
   "outputs": [
    {
     "name": "stdout",
     "output_type": "stream",
     "text": [
      "           Unnamed: 0  region  area  palmitic  palmitoleic  stearic  oleic  \\\n",
      "0      1.North-Apulia       1     1      1075           75      226   7823   \n",
      "1      2.North-Apulia       1     1      1088           73      224   7709   \n",
      "2      3.North-Apulia       1     1       911           54      246   8113   \n",
      "3      4.North-Apulia       1     1       966           57      240   7952   \n",
      "4      5.North-Apulia       1     1      1051           67      259   7771   \n",
      "..                ...     ...   ...       ...          ...      ...    ...   \n",
      "567  568.West-Liguria       3     8      1280          110      290   7490   \n",
      "568  569.West-Liguria       3     8      1060          100      270   7740   \n",
      "569  570.West-Liguria       3     8      1010           90      210   7720   \n",
      "570  571.West-Liguria       3     8       990          120      250   7750   \n",
      "571  572.West-Liguria       3     8       960           80      240   7950   \n",
      "\n",
      "     linoleic  linolenic  arachidic  eicosenoic  \n",
      "0         672         36         60          29  \n",
      "1         781         31         61          29  \n",
      "2         549         31         63          29  \n",
      "3         619         50         78          35  \n",
      "4         672         50         80          46  \n",
      "..        ...        ...        ...         ...  \n",
      "567       790         10         10           2  \n",
      "568       810         10         10           3  \n",
      "569       970          0          0           2  \n",
      "570       870         10         10           2  \n",
      "571       740         10         20           2  \n",
      "\n",
      "[572 rows x 11 columns]\n"
     ]
    }
   ],
   "source": [
    "import pandas as pd\n",
    "# read csv data into pandas dataframe\n",
    "Olive = pd.read_csv('olive.csv')\n",
    "print(Olive)"
   ]
  },
  {
   "cell_type": "markdown",
   "metadata": {},
   "source": [
    "## Q5:  How many rows and columns are in this dataframe?"
   ]
  },
  {
   "cell_type": "code",
   "execution_count": 13,
   "metadata": {
    "collapsed": false
   },
   "outputs": [
    {
     "data": {
      "text/plain": [
       "(572, 11)"
      ]
     },
     "execution_count": 13,
     "metadata": {},
     "output_type": "execute_result"
    }
   ],
   "source": [
    "#Check dimensions of dataframe Olive using 'shape'.\n",
    "#Result is (rows, columns)\n",
    "\n",
    "Olive.shape\n",
    "\n",
    "#In this datafram, there are 572 rows and 11 columns.\n"
   ]
  },
  {
   "cell_type": "markdown",
   "metadata": {},
   "source": [
    "## Q6:  Print the first 4 rows of the data"
   ]
  },
  {
   "cell_type": "code",
   "execution_count": 14,
   "metadata": {
    "collapsed": false
   },
   "outputs": [
    {
     "name": "stdout",
     "output_type": "stream",
     "text": [
      "       Unnamed: 0  region  area  palmitic  palmitoleic  stearic  oleic  \\\n",
      "0  1.North-Apulia       1     1      1075           75      226   7823   \n",
      "1  2.North-Apulia       1     1      1088           73      224   7709   \n",
      "2  3.North-Apulia       1     1       911           54      246   8113   \n",
      "3  4.North-Apulia       1     1       966           57      240   7952   \n",
      "\n",
      "   linoleic  linolenic  arachidic  eicosenoic  \n",
      "0       672         36         60          29  \n",
      "1       781         31         61          29  \n",
      "2       549         31         63          29  \n",
      "3       619         50         78          35  \n"
     ]
    }
   ],
   "source": [
    "print(Olive[:4])"
   ]
  },
  {
   "cell_type": "markdown",
   "metadata": {},
   "source": [
    "## Q7:  How many different data types are in this dataframe, and what are the data types?"
   ]
  },
  {
   "cell_type": "code",
   "execution_count": 19,
   "metadata": {
    "collapsed": false
   },
   "outputs": [
    {
     "data": {
      "text/plain": [
       "Unnamed: 0     object\n",
       "region          int64\n",
       "area            int64\n",
       "palmitic        int64\n",
       "palmitoleic     int64\n",
       "                ...  \n",
       "oleic           int64\n",
       "linoleic        int64\n",
       "linolenic       int64\n",
       "arachidic       int64\n",
       "eicosenoic      int64\n",
       "dtype: object"
      ]
     },
     "execution_count": 19,
     "metadata": {},
     "output_type": "execute_result"
    }
   ],
   "source": [
    "Olive.describe()\n",
    "Olive.dtypes\n",
    "#There are two types of data in this dataframe, a string (object) in the first column and the rest integers (int64)."
   ]
  },
  {
   "cell_type": "markdown",
   "metadata": {},
   "source": [
    "## Q8:  Create a new column\n",
    "### Copy the column to:  'Unnamed: 0' to 'sub_region_raw'"
   ]
  },
  {
   "cell_type": "code",
   "execution_count": 21,
   "metadata": {
    "collapsed": false
   },
   "outputs": [
    {
     "name": "stdout",
     "output_type": "stream",
     "text": [
      "           Unnamed: 0  region  area  palmitic  palmitoleic  stearic  oleic  \\\n",
      "0      1.North-Apulia       1     1      1075           75      226   7823   \n",
      "1      2.North-Apulia       1     1      1088           73      224   7709   \n",
      "2      3.North-Apulia       1     1       911           54      246   8113   \n",
      "3      4.North-Apulia       1     1       966           57      240   7952   \n",
      "4      5.North-Apulia       1     1      1051           67      259   7771   \n",
      "..                ...     ...   ...       ...          ...      ...    ...   \n",
      "567  568.West-Liguria       3     8      1280          110      290   7490   \n",
      "568  569.West-Liguria       3     8      1060          100      270   7740   \n",
      "569  570.West-Liguria       3     8      1010           90      210   7720   \n",
      "570  571.West-Liguria       3     8       990          120      250   7750   \n",
      "571  572.West-Liguria       3     8       960           80      240   7950   \n",
      "\n",
      "     linoleic  linolenic  arachidic  eicosenoic    sub_region_raw  \n",
      "0         672         36         60          29    1.North-Apulia  \n",
      "1         781         31         61          29    2.North-Apulia  \n",
      "2         549         31         63          29    3.North-Apulia  \n",
      "3         619         50         78          35    4.North-Apulia  \n",
      "4         672         50         80          46    5.North-Apulia  \n",
      "..        ...        ...        ...         ...               ...  \n",
      "567       790         10         10           2  568.West-Liguria  \n",
      "568       810         10         10           3  569.West-Liguria  \n",
      "569       970          0          0           2  570.West-Liguria  \n",
      "570       870         10         10           2  571.West-Liguria  \n",
      "571       740         10         20           2  572.West-Liguria  \n",
      "\n",
      "[572 rows x 12 columns]\n"
     ]
    }
   ],
   "source": [
    "Olive['sub_region_raw'] = Olive['Unnamed: 0']\n",
    "print(Olive)"
   ]
  },
  {
   "cell_type": "markdown",
   "metadata": {},
   "source": [
    "## Q9:  Rename a column\n",
    "### 'Unnamed: 0' to:  'sub_region_desc'"
   ]
  },
  {
   "cell_type": "code",
   "execution_count": 25,
   "metadata": {
    "collapsed": false
   },
   "outputs": [
    {
     "name": "stdout",
     "output_type": "stream",
     "text": [
      "      sub_region_desc  region  area  palmitic  palmitoleic  stearic  oleic  \\\n",
      "0      1.North-Apulia       1     1      1075           75      226   7823   \n",
      "1      2.North-Apulia       1     1      1088           73      224   7709   \n",
      "2      3.North-Apulia       1     1       911           54      246   8113   \n",
      "3      4.North-Apulia       1     1       966           57      240   7952   \n",
      "4      5.North-Apulia       1     1      1051           67      259   7771   \n",
      "..                ...     ...   ...       ...          ...      ...    ...   \n",
      "567  568.West-Liguria       3     8      1280          110      290   7490   \n",
      "568  569.West-Liguria       3     8      1060          100      270   7740   \n",
      "569  570.West-Liguria       3     8      1010           90      210   7720   \n",
      "570  571.West-Liguria       3     8       990          120      250   7750   \n",
      "571  572.West-Liguria       3     8       960           80      240   7950   \n",
      "\n",
      "     linoleic  linolenic  arachidic  eicosenoic    sub_region_raw  \n",
      "0         672         36         60          29    1.North-Apulia  \n",
      "1         781         31         61          29    2.North-Apulia  \n",
      "2         549         31         63          29    3.North-Apulia  \n",
      "3         619         50         78          35    4.North-Apulia  \n",
      "4         672         50         80          46    5.North-Apulia  \n",
      "..        ...        ...        ...         ...               ...  \n",
      "567       790         10         10           2  568.West-Liguria  \n",
      "568       810         10         10           3  569.West-Liguria  \n",
      "569       970          0          0           2  570.West-Liguria  \n",
      "570       870         10         10           2  571.West-Liguria  \n",
      "571       740         10         20           2  572.West-Liguria  \n",
      "\n",
      "[572 rows x 12 columns]\n"
     ]
    }
   ],
   "source": [
    "Olive = Olive.rename(columns = {'Unnamed: 0' : 'sub_region_desc'})\n",
    "print(Olive)"
   ]
  },
  {
   "cell_type": "markdown",
   "metadata": {},
   "source": [
    "## Q10:  Rename the column 'area' to:  'sub_region'"
   ]
  },
  {
   "cell_type": "code",
   "execution_count": 73,
   "metadata": {
    "collapsed": false
   },
   "outputs": [
    {
     "name": "stdout",
     "output_type": "stream",
     "text": [
      "    sub_region_desc  region  sub_region  palmitic  palmitoleic  stearic  \\\n",
      "0      North-Apulia       1           1      1075           75      226   \n",
      "1      North-Apulia       1           1      1088           73      224   \n",
      "2      North-Apulia       1           1       911           54      246   \n",
      "3      North-Apulia       1           1       966           57      240   \n",
      "4      North-Apulia       1           1      1051           67      259   \n",
      "..              ...     ...         ...       ...          ...      ...   \n",
      "567    West-Liguria       3           8      1280          110      290   \n",
      "568    West-Liguria       3           8      1060          100      270   \n",
      "569    West-Liguria       3           8      1010           90      210   \n",
      "570    West-Liguria       3           8       990          120      250   \n",
      "571    West-Liguria       3           8       960           80      240   \n",
      "\n",
      "     oleic  linoleic  linolenic  arachidic  eicosenoic sub_region_raw  \n",
      "0     7823       672         36         60          29   North-Apulia  \n",
      "1     7709       781         31         61          29   North-Apulia  \n",
      "2     8113       549         31         63          29   North-Apulia  \n",
      "3     7952       619         50         78          35   North-Apulia  \n",
      "4     7771       672         50         80          46   North-Apulia  \n",
      "..     ...       ...        ...        ...         ...            ...  \n",
      "567   7490       790         10         10           2   West-Liguria  \n",
      "568   7740       810         10         10           3   West-Liguria  \n",
      "569   7720       970          0          0           2   West-Liguria  \n",
      "570   7750       870         10         10           2   West-Liguria  \n",
      "571   7950       740         10         20           2   West-Liguria  \n",
      "\n",
      "[572 rows x 12 columns]\n"
     ]
    }
   ],
   "source": [
    " Olive = Olive.rename(columns = {'area' : 'sub_region'})\n",
    "print(Olive)"
   ]
  },
  {
   "cell_type": "markdown",
   "metadata": {},
   "source": [
    "## Q11:  How many unique values of 'region' are there?\n",
    "\n",
    "Hint:  the answer should be 3"
   ]
  },
  {
   "cell_type": "code",
   "execution_count": 27,
   "metadata": {
    "collapsed": false
   },
   "outputs": [
    {
     "name": "stdout",
     "output_type": "stream",
     "text": [
      "[1 2 3]\n"
     ]
    }
   ],
   "source": [
    "print(Olive.region.unique())"
   ]
  },
  {
   "cell_type": "markdown",
   "metadata": {},
   "source": [
    "## Q12:  How many unique values of 'sub_region' are there?\n",
    "\n",
    "Hint:  the answer should be 9"
   ]
  },
  {
   "cell_type": "code",
   "execution_count": 30,
   "metadata": {
    "collapsed": false
   },
   "outputs": [
    {
     "name": "stdout",
     "output_type": "stream",
     "text": [
      "[1, 2, 3, 4, 5, 6, 7, 8, 9]\n"
     ]
    }
   ],
   "source": [
    " print(sorted(Olive.sub_region.unique()))"
   ]
  },
  {
   "cell_type": "markdown",
   "metadata": {},
   "source": [
    "## Q13:  How many unique values of 'sub_region_desc' are there?\n",
    "Hint:  we would like the answer to be 9, but here's where we run into some messy data"
   ]
  },
  {
   "cell_type": "code",
   "execution_count": 43,
   "metadata": {
    "collapsed": false
   },
   "outputs": [
    {
     "name": "stdout",
     "output_type": "stream",
     "text": [
      "['North-Apulia' 'Calabria' 'South-Apulia' 'Sicily' 'Inland-Sardinia'\n",
      " 'Coast-Sardinia' 'Umbria' 'East-Liguria' 'West-Liguria']\n"
     ]
    }
   ],
   "source": [
    "print(Olive.sub_region_desc.unique())"
   ]
  },
  {
   "cell_type": "markdown",
   "metadata": {},
   "source": [
    "## Q14:  Looks like 'sub_region_desc' has line numbers attached to the beginning of region name.  We need to do some data cleaning.  Can you remove them?  \n",
    "```\n",
    " \tregion \tsub_region \tpalmitic \tpalmitoleic \tstearic \toleic \tlinoleic \tlinolenic \tarachidic \teicosenoic \tsub_region_raw\n",
    "sub_region_desc \t\t\t\t\t\t\t\t\t\t\t\n",
    "1.North-Apulia \t1 \t1 \t1 \t1 \t1 \t1 \t1 \t1 \t1 \t1 \t1\n",
    "10.North-Apulia \t1 \t1 \t1 \t1 \t1 \t1 \t1 \t1 \t1 \t1 \t1\n",
    "100.South-Apulia \t1 \t1 \t1 \t1 \t1 \t1 \t1 \t1 \t1 \t1 \t1\n",
    "101.South-Apulia \t1 \t1 \t1 \t1 \t1 \t1 \t1 \t1 \t1 \t1 \t1\n",
    "102.South-Apulia \t1 \t1 \t1 \t1 \t1 \t1 \t1 \t1 \t1 \t1 \t1\n",
    "```\n",
    "\n",
    "Hint:  check out this link\n",
    "http://stackoverflow.com/questions/39583264/pandas-strip-numbers-and-parenthesis-from-string\n",
    " "
   ]
  },
  {
   "cell_type": "code",
   "execution_count": 72,
   "metadata": {
    "collapsed": false
   },
   "outputs": [
    {
     "data": {
      "text/html": [
       "<div>\n",
       "<table border=\"1\" class=\"dataframe\">\n",
       "  <thead>\n",
       "    <tr style=\"text-align: right;\">\n",
       "      <th></th>\n",
       "      <th>sub_region_desc</th>\n",
       "      <th>region</th>\n",
       "      <th>sub_region</th>\n",
       "      <th>palmitic</th>\n",
       "      <th>palmitoleic</th>\n",
       "      <th>stearic</th>\n",
       "      <th>oleic</th>\n",
       "      <th>linoleic</th>\n",
       "      <th>linolenic</th>\n",
       "      <th>arachidic</th>\n",
       "      <th>eicosenoic</th>\n",
       "      <th>sub_region_raw</th>\n",
       "    </tr>\n",
       "  </thead>\n",
       "  <tbody>\n",
       "    <tr>\n",
       "      <th>0</th>\n",
       "      <td>North-Apulia</td>\n",
       "      <td>1</td>\n",
       "      <td>1</td>\n",
       "      <td>1075</td>\n",
       "      <td>75</td>\n",
       "      <td>226</td>\n",
       "      <td>7823</td>\n",
       "      <td>672</td>\n",
       "      <td>36</td>\n",
       "      <td>60</td>\n",
       "      <td>29</td>\n",
       "      <td>North-Apulia</td>\n",
       "    </tr>\n",
       "    <tr>\n",
       "      <th>1</th>\n",
       "      <td>North-Apulia</td>\n",
       "      <td>1</td>\n",
       "      <td>1</td>\n",
       "      <td>1088</td>\n",
       "      <td>73</td>\n",
       "      <td>224</td>\n",
       "      <td>7709</td>\n",
       "      <td>781</td>\n",
       "      <td>31</td>\n",
       "      <td>61</td>\n",
       "      <td>29</td>\n",
       "      <td>North-Apulia</td>\n",
       "    </tr>\n",
       "    <tr>\n",
       "      <th>2</th>\n",
       "      <td>North-Apulia</td>\n",
       "      <td>1</td>\n",
       "      <td>1</td>\n",
       "      <td>911</td>\n",
       "      <td>54</td>\n",
       "      <td>246</td>\n",
       "      <td>8113</td>\n",
       "      <td>549</td>\n",
       "      <td>31</td>\n",
       "      <td>63</td>\n",
       "      <td>29</td>\n",
       "      <td>North-Apulia</td>\n",
       "    </tr>\n",
       "    <tr>\n",
       "      <th>3</th>\n",
       "      <td>North-Apulia</td>\n",
       "      <td>1</td>\n",
       "      <td>1</td>\n",
       "      <td>966</td>\n",
       "      <td>57</td>\n",
       "      <td>240</td>\n",
       "      <td>7952</td>\n",
       "      <td>619</td>\n",
       "      <td>50</td>\n",
       "      <td>78</td>\n",
       "      <td>35</td>\n",
       "      <td>North-Apulia</td>\n",
       "    </tr>\n",
       "    <tr>\n",
       "      <th>4</th>\n",
       "      <td>North-Apulia</td>\n",
       "      <td>1</td>\n",
       "      <td>1</td>\n",
       "      <td>1051</td>\n",
       "      <td>67</td>\n",
       "      <td>259</td>\n",
       "      <td>7771</td>\n",
       "      <td>672</td>\n",
       "      <td>50</td>\n",
       "      <td>80</td>\n",
       "      <td>46</td>\n",
       "      <td>North-Apulia</td>\n",
       "    </tr>\n",
       "  </tbody>\n",
       "</table>\n",
       "</div>"
      ],
      "text/plain": [
       "  sub_region_desc  region  sub_region  palmitic  palmitoleic  stearic  oleic  \\\n",
       "0    North-Apulia       1           1      1075           75      226   7823   \n",
       "1    North-Apulia       1           1      1088           73      224   7709   \n",
       "2    North-Apulia       1           1       911           54      246   8113   \n",
       "3    North-Apulia       1           1       966           57      240   7952   \n",
       "4    North-Apulia       1           1      1051           67      259   7771   \n",
       "\n",
       "   linoleic  linolenic  arachidic  eicosenoic sub_region_raw  \n",
       "0       672         36         60          29   North-Apulia  \n",
       "1       781         31         61          29   North-Apulia  \n",
       "2       549         31         63          29   North-Apulia  \n",
       "3       619         50         78          35   North-Apulia  \n",
       "4       672         50         80          46   North-Apulia  "
      ]
     },
     "execution_count": 72,
     "metadata": {},
     "output_type": "execute_result"
    }
   ],
   "source": [
    "Olive['sub_region_desc'] = Olive['sub_region_desc'].str.replace(r'[\\.\\d]+', '')\n",
    "Olive['sub_region_raw'] = Olive['sub_region_raw'].str.replace(r'[\\.\\d]+', '')\n",
    "Olive.head()"
   ]
  },
  {
   "cell_type": "code",
   "execution_count": 38,
   "metadata": {
    "collapsed": false
   },
   "outputs": [],
   "source": [
    "#df.head()"
   ]
  },
  {
   "cell_type": "code",
   "execution_count": null,
   "metadata": {
    "collapsed": false
   },
   "outputs": [],
   "source": [
    " "
   ]
  },
  {
   "cell_type": "code",
   "execution_count": 8,
   "metadata": {
    "collapsed": false
   },
   "outputs": [],
   "source": [
    "#df.head()"
   ]
  },
  {
   "cell_type": "code",
   "execution_count": null,
   "metadata": {
    "collapsed": false
   },
   "outputs": [],
   "source": [
    " "
   ]
  },
  {
   "cell_type": "code",
   "execution_count": 9,
   "metadata": {
    "collapsed": false
   },
   "outputs": [],
   "source": [
    "#df.head()"
   ]
  },
  {
   "cell_type": "markdown",
   "metadata": {
    "collapsed": false
   },
   "source": [
    "## Q15:  Try again:  How many unique values of 'sub_region_desc' are there?\n",
    "Hint:  you should see 9 of them!"
   ]
  },
  {
   "cell_type": "code",
   "execution_count": 44,
   "metadata": {
    "collapsed": false
   },
   "outputs": [
    {
     "name": "stdout",
     "output_type": "stream",
     "text": [
      "['North-Apulia' 'Calabria' 'South-Apulia' 'Sicily' 'Inland-Sardinia'\n",
      " 'Coast-Sardinia' 'Umbria' 'East-Liguria' 'West-Liguria']\n"
     ]
    }
   ],
   "source": [
    " print(Olive.sub_region_desc.unique())"
   ]
  },
  {
   "cell_type": "markdown",
   "metadata": {},
   "source": [
    "## Q16:   Create a horizontal frequency barplot for 'region'"
   ]
  },
  {
   "cell_type": "code",
   "execution_count": 69,
   "metadata": {
    "collapsed": false
   },
   "outputs": [
    {
     "data": {
      "text/plain": [
       "<matplotlib.axes._subplots.AxesSubplot at 0x10ee19630>"
      ]
     },
     "execution_count": 69,
     "metadata": {},
     "output_type": "execute_result"
    },
    {
     "data": {
      "image/png": "[encoded data removed]",
      "text/plain": [
       "<matplotlib.figure.Figure at 0x10ffcb208>"
      ]
     },
     "metadata": {},
     "output_type": "display_data"
    }
   ],
   "source": [
    "fig_size[0] = 9\n",
    "fig_size[1] = 7\n",
    "plt.rcParams[\"figure.figsize\"] = fig_size\n",
    "\n",
    "Olive.groupby('region').count().plot(kind = 'barh')"
   ]
  },
  {
   "cell_type": "markdown",
   "metadata": {},
   "source": [
    "## Q17:   Create a horizontal frequency barplot for 'sub_region'"
   ]
  },
  {
   "cell_type": "code",
   "execution_count": 70,
   "metadata": {
    "collapsed": false
   },
   "outputs": [
    {
     "data": {
      "text/plain": [
       "<matplotlib.axes._subplots.AxesSubplot at 0x10f2ab278>"
      ]
     },
     "execution_count": 70,
     "metadata": {},
     "output_type": "execute_result"
    },
    {
     "data": {
      "image/png": "[encoded data removed]",
      "text/plain": [
       "<matplotlib.figure.Figure at 0x10f7ecef0>"
      ]
     },
     "metadata": {},
     "output_type": "display_data"
    }
   ],
   "source": [
    "Olive.groupby('sub_region').count().plot(kind = 'barh')"
   ]
  },
  {
   "cell_type": "markdown",
   "metadata": {},
   "source": [
    "## Q18:   Create a horizontal frequency barplot for 'sub_region_desc'"
   ]
  },
  {
   "cell_type": "code",
   "execution_count": 71,
   "metadata": {
    "collapsed": false
   },
   "outputs": [
    {
     "data": {
      "text/plain": [
       "<matplotlib.axes._subplots.AxesSubplot at 0x110235630>"
      ]
     },
     "execution_count": 71,
     "metadata": {},
     "output_type": "execute_result"
    },
    {
     "data": {
      "image/png": "[encoded data removed]",
      "text/plain": [
       "<matplotlib.figure.Figure at 0x10252e470>"
      ]
     },
     "metadata": {},
     "output_type": "display_data"
    }
   ],
   "source": [
    "Olive.groupby('sub_region_desc').count().plot(kind = 'barh')"
   ]
  },
  {
   "cell_type": "code",
   "execution_count": null,
   "metadata": {
    "collapsed": true
   },
   "outputs": [],
   "source": []
  }
 ],
 "metadata": {
  "anaconda-cloud": {},
  "kernelspec": {
   "display_name": "Python 3",
   "language": "python",
   "name": "python3"
  },
  "language_info": {
   "codemirror_mode": {
    "name": "ipython",
    "version": 3
   },
   "file_extension": ".py",
   "mimetype": "text/x-python",
   "name": "python",
   "nbconvert_exporter": "python",
   "pygments_lexer": "ipython3",
   "version": "3.6.0"
  }
 },
 "nbformat": 4,
 "nbformat_minor": 0
}
